{
  "nbformat": 4,
  "nbformat_minor": 0,
  "metadata": {
    "colab": {
      "name": "MLE.ipynb",
      "provenance": [],
      "authorship_tag": "ABX9TyMP24HV6OkjO4rAhpHtKq3+",
      "include_colab_link": true
    },
    "kernelspec": {
      "name": "python3",
      "display_name": "Python 3"
    },
    "language_info": {
      "name": "python"
    }
  },
  "cells": [
    {
      "cell_type": "markdown",
      "metadata": {
        "id": "view-in-github",
        "colab_type": "text"
      },
      "source": [
        "<a href=\"https://colab.research.google.com/github/taocao/fsdl-text-recognizer-2021-labs/blob/main/lab1/train.ipynb\" target=\"_parent\"><img src=\"https://colab.research.google.com/assets/colab-badge.svg\" alt=\"Open In Colab\"/></a>"
      ]
    },
    {
      "cell_type": "code",
      "execution_count": null,
      "metadata": {
        "colab": {
          "base_uri": "https://localhost:8080/"
        },
        "id": "JYJbiP10lSTZ",
        "outputId": "52fa3f8a-5465-4f11-c98f-f723f84f5a3d"
      },
      "outputs": [
        {
          "output_type": "stream",
          "name": "stdout",
          "text": [
            "Mounted at /content/drive\n"
          ]
        }
      ],
      "source": [
        "from google.colab import drive\n",
        "drive.mount('/content/drive')"
      ]
    },
    {
      "cell_type": "code",
      "source": [
        "pwd"
      ],
      "metadata": {
        "colab": {
          "base_uri": "https://localhost:8080/",
          "height": 38
        },
        "id": "K5gVOPEjlYWH",
        "outputId": "bc3f9f98-267a-43b0-c2bf-4cb374f08131"
      },
      "execution_count": 1,
      "outputs": [
        {
          "output_type": "execute_result",
          "data": {
            "text/plain": [
              "'/content'"
            ],
            "application/vnd.google.colaboratory.intrinsic+json": {
              "type": "string"
            }
          },
          "metadata": {},
          "execution_count": 1
        }
      ]
    },
    {
      "cell_type": "code",
      "source": [
        "cd \"./drive/My Drive/\""
      ],
      "metadata": {
        "colab": {
          "base_uri": "https://localhost:8080/"
        },
        "id": "eI6wDAMalsZm",
        "outputId": "7a12aa84-0dec-4329-efb5-b8867199a0bc"
      },
      "execution_count": null,
      "outputs": [
        {
          "output_type": "stream",
          "name": "stdout",
          "text": [
            "/content/drive/My Drive\n"
          ]
        }
      ]
    },
    {
      "cell_type": "code",
      "source": [
        "!git clone https://github.com/taocao/fsdl-text-recognizer-2021-labs.git"
      ],
      "metadata": {
        "colab": {
          "base_uri": "https://localhost:8080/"
        },
        "id": "3C_WQUd2mADx",
        "outputId": "7f461348-ed8e-48df-98ef-f5c10f2b4ecd"
      },
      "execution_count": null,
      "outputs": [
        {
          "output_type": "stream",
          "name": "stdout",
          "text": [
            "Cloning into 'fsdl-text-recognizer-2021-labs'...\n",
            "remote: Enumerating objects: 801, done.\u001b[K\n",
            "remote: Counting objects: 100% (319/319), done.\u001b[K\n",
            "remote: Compressing objects: 100% (124/124), done.\u001b[K\n",
            "remote: Total 801 (delta 219), reused 195 (delta 195), pack-reused 482\u001b[K\n",
            "Receiving objects: 100% (801/801), 19.37 MiB | 11.59 MiB/s, done.\n",
            "Resolving deltas: 100% (396/396), done.\n",
            "Checking out files: 100% (324/324), done.\n"
          ]
        }
      ]
    },
    {
      "cell_type": "code",
      "source": [
        "cd fsdl-text-recognizer-2021-labs/"
      ],
      "metadata": {
        "colab": {
          "base_uri": "https://localhost:8080/"
        },
        "id": "iBulR7G1m3wr",
        "outputId": "023bde56-44a6-4d0d-968a-09755eb11d16"
      },
      "execution_count": null,
      "outputs": [
        {
          "output_type": "stream",
          "name": "stdout",
          "text": [
            "/content/drive/MyDrive/fsdl-text-recognizer-2021-labs\n"
          ]
        }
      ]
    },
    {
      "cell_type": "code",
      "source": [
        "pwd"
      ],
      "metadata": {
        "colab": {
          "base_uri": "https://localhost:8080/",
          "height": 38
        },
        "id": "woIu_0lonFEc",
        "outputId": "32f956b7-ce84-47ba-8c3c-c15548e2b5da"
      },
      "execution_count": null,
      "outputs": [
        {
          "output_type": "execute_result",
          "data": {
            "text/plain": [
              "'/content/drive/MyDrive/fsdl-text-recognizer-2021-labs'"
            ],
            "application/vnd.google.colaboratory.intrinsic+json": {
              "type": "string"
            }
          },
          "metadata": {},
          "execution_count": 20
        }
      ]
    },
    {
      "cell_type": "code",
      "source": [
        "ls"
      ],
      "metadata": {
        "colab": {
          "base_uri": "https://localhost:8080/"
        },
        "id": "qlV2hPFundW_",
        "outputId": "03f58378-d743-477d-93f1-cc37e6142448"
      },
      "execution_count": null,
      "outputs": [
        {
          "output_type": "stream",
          "name": "stdout",
          "text": [
            "\u001b[0m\u001b[01;34mdata\u001b[0m/                                   \u001b[01;34mlab2\u001b[0m/  \u001b[01;34mlab6\u001b[0m/  LICENSE.txt    \u001b[01;34msetup\u001b[0m/\n",
            "deep_learning_fundamentals_part1.ipynb  \u001b[01;34mlab3\u001b[0m/  \u001b[01;34mlab7\u001b[0m/  Makefile\n",
            "environment.yml                         \u001b[01;34mlab4\u001b[0m/  \u001b[01;34mlab8\u001b[0m/  readme.md\n",
            "\u001b[01;34mlab1\u001b[0m/                                   \u001b[01;34mlab5\u001b[0m/  \u001b[01;34mlab9\u001b[0m/  \u001b[01;34mrequirements\u001b[0m/\n"
          ]
        }
      ]
    },
    {
      "cell_type": "code",
      "source": [
        "cd lab1"
      ],
      "metadata": {
        "colab": {
          "base_uri": "https://localhost:8080/"
        },
        "id": "jl6GYAyRne7b",
        "outputId": "db447e17-8201-4c9e-e2be-ceac4da83f10"
      },
      "execution_count": null,
      "outputs": [
        {
          "output_type": "stream",
          "name": "stdout",
          "text": [
            "/content/drive/MyDrive/fsdl-text-recognizer-2021-labs/lab1\n"
          ]
        }
      ]
    },
    {
      "cell_type": "code",
      "source": [
        "ls"
      ],
      "metadata": {
        "colab": {
          "base_uri": "https://localhost:8080/"
        },
        "id": "mCC5hAl5nhw3",
        "outputId": "f4b92019-936d-42f5-a0f6-b1ec39390f9a"
      },
      "execution_count": null,
      "outputs": [
        {
          "output_type": "stream",
          "name": "stdout",
          "text": [
            "readme.md  \u001b[0m\u001b[01;34mtext_recognizer\u001b[0m/  \u001b[01;34mtraining\u001b[0m/\n"
          ]
        }
      ]
    },
    {
      "cell_type": "code",
      "source": [
        "%env PYTHONPATH=.:$PYTHONPATH"
      ],
      "metadata": {
        "colab": {
          "base_uri": "https://localhost:8080/"
        },
        "id": "25GlJivMn-hK",
        "outputId": "be899636-f86a-47d2-94ad-63cce9e981db"
      },
      "execution_count": null,
      "outputs": [
        {
          "output_type": "stream",
          "name": "stdout",
          "text": [
            "env: PYTHONPATH=.:$PYTHONPATH\n"
          ]
        }
      ]
    },
    {
      "cell_type": "code",
      "source": [
        "!python training/run_experiment.py --max-epochs = 3"
      ],
      "metadata": {
        "colab": {
          "base_uri": "https://localhost:8080/"
        },
        "id": "aPD0_WQtni8a",
        "outputId": "8d010609-998a-448c-e2c2-7ea49d24ff1a"
      },
      "execution_count": null,
      "outputs": [
        {
          "output_type": "stream",
          "name": "stdout",
          "text": [
            "Traceback (most recent call last):\n",
            "  File \"training/run_experiment.py\", line 8, in <module>\n",
            "    import wandb\n",
            "ModuleNotFoundError: No module named 'wandb'\n"
          ]
        }
      ]
    },
    {
      "cell_type": "code",
      "source": [
        "!pip3 install boltons wandb pytorch_lightning==1.1.4 pip install torch==1.7.1+cu110 torchvision==0.8.2+cu110 torchaudio==0.7.2 torchtext==0.8.1 -f https://download.pytorch.org/whl/torch_stable.html\n",
        "#%env PYTHONPATH=.:$PYTHONPATH"
      ],
      "metadata": {
        "colab": {
          "base_uri": "https://localhost:8080/"
        },
        "id": "HLGvTU6QoMs2",
        "outputId": "af8aea3d-86ea-4221-c58d-fd831d775a9b"
      },
      "execution_count": null,
      "outputs": [
        {
          "output_type": "stream",
          "name": "stdout",
          "text": [
            "Looking in indexes: https://pypi.org/simple, https://us-python.pkg.dev/colab-wheels/public/simple/\n",
            "Looking in links: https://download.pytorch.org/whl/torch_stable.html\n",
            "Requirement already satisfied: boltons in /usr/local/lib/python3.7/dist-packages (21.0.0)\n",
            "Requirement already satisfied: wandb in /usr/local/lib/python3.7/dist-packages (0.12.17)\n",
            "Collecting pytorch_lightning==1.1.4\n",
            "  Downloading pytorch_lightning-1.1.4-py3-none-any.whl (684 kB)\n",
            "\u001b[K     |████████████████████████████████| 684 kB 5.2 MB/s \n",
            "\u001b[?25hRequirement already satisfied: pip in /usr/local/lib/python3.7/dist-packages (21.1.3)\n",
            "Requirement already satisfied: install in /usr/local/lib/python3.7/dist-packages (1.3.5)\n",
            "Requirement already satisfied: torch==1.7.1+cu110 in /usr/local/lib/python3.7/dist-packages (1.7.1+cu110)\n",
            "Requirement already satisfied: torchvision==0.8.2+cu110 in /usr/local/lib/python3.7/dist-packages (0.8.2+cu110)\n",
            "Requirement already satisfied: torchaudio==0.7.2 in /usr/local/lib/python3.7/dist-packages (0.7.2)\n",
            "Requirement already satisfied: torchtext==0.8.1 in /usr/local/lib/python3.7/dist-packages (0.8.1)\n",
            "Collecting future>=0.17.1\n",
            "  Downloading future-0.18.2.tar.gz (829 kB)\n",
            "\u001b[K     |████████████████████████████████| 829 kB 48.1 MB/s \n",
            "\u001b[?25hRequirement already satisfied: PyYAML>=5.1 in /usr/local/lib/python3.7/dist-packages (from pytorch_lightning==1.1.4) (6.0)\n",
            "Requirement already satisfied: tensorboard>=2.2.0 in /usr/local/lib/python3.7/dist-packages (from pytorch_lightning==1.1.4) (2.8.0)\n",
            "Requirement already satisfied: tqdm>=4.41.0 in /usr/local/lib/python3.7/dist-packages (from pytorch_lightning==1.1.4) (4.64.0)\n",
            "Requirement already satisfied: numpy>=1.16.6 in /usr/local/lib/python3.7/dist-packages (from pytorch_lightning==1.1.4) (1.21.6)\n",
            "Requirement already satisfied: fsspec[http]>=0.8.1 in /usr/local/lib/python3.7/dist-packages (from pytorch_lightning==1.1.4) (2022.5.0)\n",
            "Requirement already satisfied: typing-extensions in /usr/local/lib/python3.7/dist-packages (from torch==1.7.1+cu110) (4.2.0)\n",
            "Requirement already satisfied: pillow>=4.1.1 in /usr/local/lib/python3.7/dist-packages (from torchvision==0.8.2+cu110) (7.1.2)\n",
            "Requirement already satisfied: requests in /usr/local/lib/python3.7/dist-packages (from torchtext==0.8.1) (2.23.0)\n",
            "Requirement already satisfied: aiohttp in /usr/local/lib/python3.7/dist-packages (from fsspec[http]>=0.8.1->pytorch_lightning==1.1.4) (3.8.1)\n",
            "Requirement already satisfied: werkzeug>=0.11.15 in /usr/local/lib/python3.7/dist-packages (from tensorboard>=2.2.0->pytorch_lightning==1.1.4) (1.0.1)\n",
            "Requirement already satisfied: tensorboard-plugin-wit>=1.6.0 in /usr/local/lib/python3.7/dist-packages (from tensorboard>=2.2.0->pytorch_lightning==1.1.4) (1.8.1)\n",
            "Requirement already satisfied: markdown>=2.6.8 in /usr/local/lib/python3.7/dist-packages (from tensorboard>=2.2.0->pytorch_lightning==1.1.4) (3.3.7)\n",
            "Requirement already satisfied: absl-py>=0.4 in /usr/local/lib/python3.7/dist-packages (from tensorboard>=2.2.0->pytorch_lightning==1.1.4) (1.0.0)\n",
            "Requirement already satisfied: setuptools>=41.0.0 in /usr/local/lib/python3.7/dist-packages (from tensorboard>=2.2.0->pytorch_lightning==1.1.4) (57.4.0)\n",
            "Requirement already satisfied: tensorboard-data-server<0.7.0,>=0.6.0 in /usr/local/lib/python3.7/dist-packages (from tensorboard>=2.2.0->pytorch_lightning==1.1.4) (0.6.1)\n",
            "Requirement already satisfied: google-auth<3,>=1.6.3 in /usr/local/lib/python3.7/dist-packages (from tensorboard>=2.2.0->pytorch_lightning==1.1.4) (1.35.0)\n",
            "Requirement already satisfied: wheel>=0.26 in /usr/local/lib/python3.7/dist-packages (from tensorboard>=2.2.0->pytorch_lightning==1.1.4) (0.37.1)\n",
            "Requirement already satisfied: grpcio>=1.24.3 in /usr/local/lib/python3.7/dist-packages (from tensorboard>=2.2.0->pytorch_lightning==1.1.4) (1.46.1)\n",
            "Requirement already satisfied: protobuf>=3.6.0 in /usr/local/lib/python3.7/dist-packages (from tensorboard>=2.2.0->pytorch_lightning==1.1.4) (3.17.3)\n",
            "Requirement already satisfied: google-auth-oauthlib<0.5,>=0.4.1 in /usr/local/lib/python3.7/dist-packages (from tensorboard>=2.2.0->pytorch_lightning==1.1.4) (0.4.6)\n",
            "Requirement already satisfied: six in /usr/local/lib/python3.7/dist-packages (from absl-py>=0.4->tensorboard>=2.2.0->pytorch_lightning==1.1.4) (1.15.0)\n",
            "Requirement already satisfied: rsa<5,>=3.1.4 in /usr/local/lib/python3.7/dist-packages (from google-auth<3,>=1.6.3->tensorboard>=2.2.0->pytorch_lightning==1.1.4) (4.8)\n",
            "Requirement already satisfied: pyasn1-modules>=0.2.1 in /usr/local/lib/python3.7/dist-packages (from google-auth<3,>=1.6.3->tensorboard>=2.2.0->pytorch_lightning==1.1.4) (0.2.8)\n",
            "Requirement already satisfied: cachetools<5.0,>=2.0.0 in /usr/local/lib/python3.7/dist-packages (from google-auth<3,>=1.6.3->tensorboard>=2.2.0->pytorch_lightning==1.1.4) (4.2.4)\n",
            "Requirement already satisfied: requests-oauthlib>=0.7.0 in /usr/local/lib/python3.7/dist-packages (from google-auth-oauthlib<0.5,>=0.4.1->tensorboard>=2.2.0->pytorch_lightning==1.1.4) (1.3.1)\n",
            "Requirement already satisfied: importlib-metadata>=4.4 in /usr/local/lib/python3.7/dist-packages (from markdown>=2.6.8->tensorboard>=2.2.0->pytorch_lightning==1.1.4) (4.11.3)\n",
            "Requirement already satisfied: zipp>=0.5 in /usr/local/lib/python3.7/dist-packages (from importlib-metadata>=4.4->markdown>=2.6.8->tensorboard>=2.2.0->pytorch_lightning==1.1.4) (3.8.0)\n",
            "Requirement already satisfied: pyasn1<0.5.0,>=0.4.6 in /usr/local/lib/python3.7/dist-packages (from pyasn1-modules>=0.2.1->google-auth<3,>=1.6.3->tensorboard>=2.2.0->pytorch_lightning==1.1.4) (0.4.8)\n",
            "Requirement already satisfied: chardet<4,>=3.0.2 in /usr/local/lib/python3.7/dist-packages (from requests->torchtext==0.8.1) (3.0.4)\n",
            "Requirement already satisfied: certifi>=2017.4.17 in /usr/local/lib/python3.7/dist-packages (from requests->torchtext==0.8.1) (2022.5.18.1)\n",
            "Requirement already satisfied: urllib3!=1.25.0,!=1.25.1,<1.26,>=1.21.1 in /usr/local/lib/python3.7/dist-packages (from requests->torchtext==0.8.1) (1.24.3)\n",
            "Requirement already satisfied: idna<3,>=2.5 in /usr/local/lib/python3.7/dist-packages (from requests->torchtext==0.8.1) (2.10)\n",
            "Requirement already satisfied: oauthlib>=3.0.0 in /usr/local/lib/python3.7/dist-packages (from requests-oauthlib>=0.7.0->google-auth-oauthlib<0.5,>=0.4.1->tensorboard>=2.2.0->pytorch_lightning==1.1.4) (3.2.0)\n",
            "Requirement already satisfied: GitPython>=1.0.0 in /usr/local/lib/python3.7/dist-packages (from wandb) (3.1.27)\n",
            "Requirement already satisfied: python-dateutil>=2.6.1 in /usr/local/lib/python3.7/dist-packages (from wandb) (2.8.2)\n",
            "Requirement already satisfied: pathtools in /usr/local/lib/python3.7/dist-packages (from wandb) (0.1.2)\n",
            "Requirement already satisfied: sentry-sdk>=1.0.0 in /usr/local/lib/python3.7/dist-packages (from wandb) (1.5.12)\n",
            "Requirement already satisfied: promise<3,>=2.0 in /usr/local/lib/python3.7/dist-packages (from wandb) (2.3)\n",
            "Requirement already satisfied: docker-pycreds>=0.4.0 in /usr/local/lib/python3.7/dist-packages (from wandb) (0.4.0)\n",
            "Requirement already satisfied: shortuuid>=0.5.0 in /usr/local/lib/python3.7/dist-packages (from wandb) (1.0.9)\n",
            "Requirement already satisfied: setproctitle in /usr/local/lib/python3.7/dist-packages (from wandb) (1.2.3)\n",
            "Requirement already satisfied: Click!=8.0.0,>=7.0 in /usr/local/lib/python3.7/dist-packages (from wandb) (7.1.2)\n",
            "Requirement already satisfied: psutil>=5.0.0 in /usr/local/lib/python3.7/dist-packages (from wandb) (5.4.8)\n",
            "Requirement already satisfied: gitdb<5,>=4.0.1 in /usr/local/lib/python3.7/dist-packages (from GitPython>=1.0.0->wandb) (4.0.9)\n",
            "Requirement already satisfied: smmap<6,>=3.0.1 in /usr/local/lib/python3.7/dist-packages (from gitdb<5,>=4.0.1->GitPython>=1.0.0->wandb) (5.0.0)\n",
            "Requirement already satisfied: charset-normalizer<3.0,>=2.0 in /usr/local/lib/python3.7/dist-packages (from aiohttp->fsspec[http]>=0.8.1->pytorch_lightning==1.1.4) (2.0.12)\n",
            "Requirement already satisfied: async-timeout<5.0,>=4.0.0a3 in /usr/local/lib/python3.7/dist-packages (from aiohttp->fsspec[http]>=0.8.1->pytorch_lightning==1.1.4) (4.0.2)\n",
            "Requirement already satisfied: yarl<2.0,>=1.0 in /usr/local/lib/python3.7/dist-packages (from aiohttp->fsspec[http]>=0.8.1->pytorch_lightning==1.1.4) (1.7.2)\n",
            "Requirement already satisfied: attrs>=17.3.0 in /usr/local/lib/python3.7/dist-packages (from aiohttp->fsspec[http]>=0.8.1->pytorch_lightning==1.1.4) (21.4.0)\n",
            "Requirement already satisfied: multidict<7.0,>=4.5 in /usr/local/lib/python3.7/dist-packages (from aiohttp->fsspec[http]>=0.8.1->pytorch_lightning==1.1.4) (6.0.2)\n",
            "Requirement already satisfied: aiosignal>=1.1.2 in /usr/local/lib/python3.7/dist-packages (from aiohttp->fsspec[http]>=0.8.1->pytorch_lightning==1.1.4) (1.2.0)\n",
            "Requirement already satisfied: asynctest==0.13.0 in /usr/local/lib/python3.7/dist-packages (from aiohttp->fsspec[http]>=0.8.1->pytorch_lightning==1.1.4) (0.13.0)\n",
            "Requirement already satisfied: frozenlist>=1.1.1 in /usr/local/lib/python3.7/dist-packages (from aiohttp->fsspec[http]>=0.8.1->pytorch_lightning==1.1.4) (1.3.0)\n",
            "Building wheels for collected packages: future\n",
            "  Building wheel for future (setup.py) ... \u001b[?25l\u001b[?25hdone\n",
            "  Created wheel for future: filename=future-0.18.2-py3-none-any.whl size=491070 sha256=685975e41a1f49f4968ac48b92915e5b8ba46a53d56519311c70bae21bf484a2\n",
            "  Stored in directory: /root/.cache/pip/wheels/56/b0/fe/4410d17b32f1f0c3cf54cdfb2bc04d7b4b8f4ae377e2229ba0\n",
            "Successfully built future\n",
            "Installing collected packages: future, pytorch-lightning\n",
            "  Attempting uninstall: future\n",
            "    Found existing installation: future 0.16.0\n",
            "    Uninstalling future-0.16.0:\n",
            "      Successfully uninstalled future-0.16.0\n",
            "  Attempting uninstall: pytorch-lightning\n",
            "    Found existing installation: pytorch-lightning 1.6.3\n",
            "    Uninstalling pytorch-lightning-1.6.3:\n",
            "      Successfully uninstalled pytorch-lightning-1.6.3\n",
            "Successfully installed future-0.18.2 pytorch-lightning-1.1.4\n"
          ]
        }
      ]
    },
    {
      "cell_type": "code",
      "source": [
        "!python training/run_experiment.py --max-epochs=3"
      ],
      "metadata": {
        "colab": {
          "base_uri": "https://localhost:8080/"
        },
        "id": "EWd-5NoHocn_",
        "outputId": "b1543cd4-9fdb-428b-c4f1-56b00a710385"
      },
      "execution_count": null,
      "outputs": [
        {
          "output_type": "stream",
          "name": "stdout",
          "text": [
            "usage: run_experiment.py [--logger [LOGGER]]\n",
            "                         [--checkpoint_callback [CHECKPOINT_CALLBACK]]\n",
            "                         [--default_root_dir DEFAULT_ROOT_DIR]\n",
            "                         [--gradient_clip_val GRADIENT_CLIP_VAL]\n",
            "                         [--process_position PROCESS_POSITION]\n",
            "                         [--num_nodes NUM_NODES]\n",
            "                         [--num_processes NUM_PROCESSES] [--gpus GPUS]\n",
            "                         [--auto_select_gpus [AUTO_SELECT_GPUS]]\n",
            "                         [--tpu_cores TPU_CORES]\n",
            "                         [--log_gpu_memory LOG_GPU_MEMORY]\n",
            "                         [--progress_bar_refresh_rate PROGRESS_BAR_REFRESH_RATE]\n",
            "                         [--overfit_batches OVERFIT_BATCHES]\n",
            "                         [--track_grad_norm TRACK_GRAD_NORM]\n",
            "                         [--check_val_every_n_epoch CHECK_VAL_EVERY_N_EPOCH]\n",
            "                         [--fast_dev_run [FAST_DEV_RUN]]\n",
            "                         [--accumulate_grad_batches ACCUMULATE_GRAD_BATCHES]\n",
            "                         [--max_epochs MAX_EPOCHS] [--min_epochs MIN_EPOCHS]\n",
            "                         [--max_steps MAX_STEPS] [--min_steps MIN_STEPS]\n",
            "                         [--limit_train_batches LIMIT_TRAIN_BATCHES]\n",
            "                         [--limit_val_batches LIMIT_VAL_BATCHES]\n",
            "                         [--limit_test_batches LIMIT_TEST_BATCHES]\n",
            "                         [--val_check_interval VAL_CHECK_INTERVAL]\n",
            "                         [--flush_logs_every_n_steps FLUSH_LOGS_EVERY_N_STEPS]\n",
            "                         [--log_every_n_steps LOG_EVERY_N_STEPS]\n",
            "                         [--accelerator ACCELERATOR]\n",
            "                         [--sync_batchnorm [SYNC_BATCHNORM]]\n",
            "                         [--precision PRECISION]\n",
            "                         [--weights_summary WEIGHTS_SUMMARY]\n",
            "                         [--weights_save_path WEIGHTS_SAVE_PATH]\n",
            "                         [--num_sanity_val_steps NUM_SANITY_VAL_STEPS]\n",
            "                         [--truncated_bptt_steps TRUNCATED_BPTT_STEPS]\n",
            "                         [--resume_from_checkpoint RESUME_FROM_CHECKPOINT]\n",
            "                         [--profiler [PROFILER]] [--benchmark [BENCHMARK]]\n",
            "                         [--deterministic [DETERMINISTIC]]\n",
            "                         [--reload_dataloaders_every_epoch [RELOAD_DATALOADERS_EVERY_EPOCH]]\n",
            "                         [--auto_lr_find [AUTO_LR_FIND]]\n",
            "                         [--replace_sampler_ddp [REPLACE_SAMPLER_DDP]]\n",
            "                         [--terminate_on_nan [TERMINATE_ON_NAN]]\n",
            "                         [--auto_scale_batch_size [AUTO_SCALE_BATCH_SIZE]]\n",
            "                         [--prepare_data_per_node [PREPARE_DATA_PER_NODE]]\n",
            "                         [--plugins PLUGINS] [--amp_backend AMP_BACKEND]\n",
            "                         [--amp_level AMP_LEVEL]\n",
            "                         [--distributed_backend DISTRIBUTED_BACKEND]\n",
            "                         [--automatic_optimization [AUTOMATIC_OPTIMIZATION]]\n",
            "                         [--move_metrics_to_cpu [MOVE_METRICS_TO_CPU]]\n",
            "                         [--enable_pl_optimizer [ENABLE_PL_OPTIMIZER]]\n",
            "                         [--data_class DATA_CLASS] [--model_class MODEL_CLASS]\n",
            "                         [--load_checkpoint LOAD_CHECKPOINT]\n",
            "                         [--batch_size BATCH_SIZE] [--num_workers NUM_WORKERS]\n",
            "                         [--fc1 FC1] [--fc2 FC2] [--optimizer OPTIMIZER]\n",
            "                         [--lr LR] [--one_cycle_max_lr ONE_CYCLE_MAX_LR]\n",
            "                         [--one_cycle_total_steps ONE_CYCLE_TOTAL_STEPS]\n",
            "                         [--loss LOSS] [--help]\n",
            "run_experiment.py: error: unrecognized arguments: --max-epochs=3\n"
          ]
        }
      ]
    },
    {
      "cell_type": "code",
      "source": [
        "!python training/run_experiment.py --max_epochs=3"
      ],
      "metadata": {
        "colab": {
          "base_uri": "https://localhost:8080/"
        },
        "id": "IHMtWYwLpLou",
        "outputId": "90e2be7b-ab9a-46c7-ecbb-99f34c514cbd"
      },
      "execution_count": null,
      "outputs": [
        {
          "output_type": "stream",
          "name": "stdout",
          "text": [
            "/usr/local/lib/python3.7/dist-packages/pytorch_lightning/utilities/distributed.py:49: UserWarning: You have set progress_bar_refresh_rate < 20 on Google Colab. This may crash. Consider using progress_bar_refresh_rate >= 20 in Trainer.\n",
            "  warnings.warn(*args, **kwargs)\n",
            "GPU available: False, used: False\n",
            "TPU available: None, using: 0 TPU cores\n",
            "Downloading http://yann.lecun.com/exdb/mnist/train-images-idx3-ubyte.gz to /content/drive/MyDrive/fsdl-text-recognizer-2021-labs/data/downloaded/MNIST/raw/train-images-idx3-ubyte.gz\n",
            "9920512it [00:00, 42362595.94it/s]                 \n",
            "Extracting /content/drive/MyDrive/fsdl-text-recognizer-2021-labs/data/downloaded/MNIST/raw/train-images-idx3-ubyte.gz to /content/drive/MyDrive/fsdl-text-recognizer-2021-labs/data/downloaded/MNIST/raw\n",
            "Downloading http://yann.lecun.com/exdb/mnist/train-labels-idx1-ubyte.gz to /content/drive/MyDrive/fsdl-text-recognizer-2021-labs/data/downloaded/MNIST/raw/train-labels-idx1-ubyte.gz\n",
            "32768it [00:00, 627094.07it/s]\n",
            "Extracting /content/drive/MyDrive/fsdl-text-recognizer-2021-labs/data/downloaded/MNIST/raw/train-labels-idx1-ubyte.gz to /content/drive/MyDrive/fsdl-text-recognizer-2021-labs/data/downloaded/MNIST/raw\n",
            "Downloading http://yann.lecun.com/exdb/mnist/t10k-images-idx3-ubyte.gz to /content/drive/MyDrive/fsdl-text-recognizer-2021-labs/data/downloaded/MNIST/raw/t10k-images-idx3-ubyte.gz\n",
            "1654784it [00:00, 14188341.64it/s]               \n",
            "Extracting /content/drive/MyDrive/fsdl-text-recognizer-2021-labs/data/downloaded/MNIST/raw/t10k-images-idx3-ubyte.gz to /content/drive/MyDrive/fsdl-text-recognizer-2021-labs/data/downloaded/MNIST/raw\n",
            "Downloading http://yann.lecun.com/exdb/mnist/t10k-labels-idx1-ubyte.gz to /content/drive/MyDrive/fsdl-text-recognizer-2021-labs/data/downloaded/MNIST/raw/t10k-labels-idx1-ubyte.gz\n",
            "8192it [00:00, 190302.78it/s]\n",
            "Extracting /content/drive/MyDrive/fsdl-text-recognizer-2021-labs/data/downloaded/MNIST/raw/t10k-labels-idx1-ubyte.gz to /content/drive/MyDrive/fsdl-text-recognizer-2021-labs/data/downloaded/MNIST/raw\n",
            "Processing...\n",
            "/usr/local/lib/python3.7/dist-packages/torchvision/datasets/mnist.py:480: UserWarning: The given NumPy array is not writeable, and PyTorch does not support non-writeable tensors. This means you can write to the underlying (supposedly non-writeable) NumPy array using the tensor. You may want to copy the array to protect its data or make it writeable before converting it to a tensor. This type of warning will be suppressed for the rest of this program. (Triggered internally at  /pytorch/torch/csrc/utils/tensor_numpy.cpp:141.)\n",
            "  return torch.from_numpy(parsed.astype(m[2], copy=False)).view(*s)\n",
            "Done!\n",
            "\n",
            "  | Name          | Type     | Params\n",
            "-------------------------------------------\n",
            "0 | model         | MLP      | 936 K \n",
            "1 | model.dropout | Dropout  | 0     \n",
            "2 | model.fc1     | Linear   | 803 K \n",
            "3 | model.fc2     | Linear   | 131 K \n",
            "4 | model.fc3     | Linear   | 1.3 K \n",
            "5 | train_acc     | Accuracy | 0     \n",
            "6 | val_acc       | Accuracy | 0     \n",
            "7 | test_acc      | Accuracy | 0     \n",
            "-------------------------------------------\n",
            "936 K     Trainable params\n",
            "0         Non-trainable params\n",
            "936 K     Total params\n",
            "Epoch 0:  91% 430/470 [00:24<00:02, 17.73it/s, loss=0.214, v_num=0, val_loss=2.33, val_acc=0.0664]\n",
            "Validating: 0it [00:00, ?it/s]\u001b[A\n",
            "Epoch 0:  92% 434/470 [00:24<00:02, 17.81it/s, loss=0.214, v_num=0, val_loss=2.33, val_acc=0.0664]\n",
            "Epoch 0:  93% 439/470 [00:24<00:01, 17.85it/s, loss=0.214, v_num=0, val_loss=2.33, val_acc=0.0664]\n",
            "Validating:  22% 9/40 [00:00<00:01, 24.25it/s]\u001b[A\n",
            "Epoch 0:  94% 444/470 [00:24<00:01, 17.92it/s, loss=0.214, v_num=0, val_loss=2.33, val_acc=0.0664]\n",
            "Validating:  38% 15/40 [00:00<00:00, 25.35it/s]\u001b[A\n",
            "Epoch 0:  96% 449/470 [00:24<00:01, 17.98it/s, loss=0.214, v_num=0, val_loss=2.33, val_acc=0.0664]\n",
            "Epoch 0:  97% 454/470 [00:25<00:00, 18.05it/s, loss=0.214, v_num=0, val_loss=2.33, val_acc=0.0664]\n",
            "Validating:  60% 24/40 [00:00<00:00, 26.08it/s]\u001b[A\n",
            "Epoch 0:  98% 459/470 [00:25<00:00, 18.11it/s, loss=0.214, v_num=0, val_loss=2.33, val_acc=0.0664]\n",
            "Validating:  75% 30/40 [00:01<00:00, 25.42it/s]\u001b[A\n",
            "Epoch 0:  99% 464/470 [00:25<00:00, 18.16it/s, loss=0.214, v_num=0, val_loss=2.33, val_acc=0.0664]\n",
            "Epoch 0: 100% 469/470 [00:25<00:00, 18.21it/s, loss=0.214, v_num=0, val_loss=2.33, val_acc=0.0664]\n",
            "Epoch 0: 100% 470/470 [00:25<00:00, 18.17it/s, loss=0.214, v_num=0, val_loss=0.162, val_acc=0.953]\n",
            "Epoch 1:  91% 430/470 [00:25<00:02, 17.08it/s, loss=0.165, v_num=0, val_loss=0.162, val_acc=0.953]\n",
            "Validating: 0it [00:00, ?it/s]\u001b[A\n",
            "Epoch 1:  93% 435/470 [00:25<00:02, 17.17it/s, loss=0.165, v_num=0, val_loss=0.162, val_acc=0.953]\n",
            "Validating:  15% 6/40 [00:00<00:01, 24.90it/s]\u001b[A\n",
            "Epoch 1:  94% 440/470 [00:25<00:01, 17.23it/s, loss=0.165, v_num=0, val_loss=0.162, val_acc=0.953]\n",
            "Epoch 1:  95% 445/470 [00:25<00:01, 17.30it/s, loss=0.165, v_num=0, val_loss=0.162, val_acc=0.953]\n",
            "Validating:  38% 15/40 [00:00<00:00, 25.43it/s]\u001b[A\n",
            "Epoch 1:  96% 450/470 [00:25<00:01, 17.36it/s, loss=0.165, v_num=0, val_loss=0.162, val_acc=0.953]\n",
            "Validating:  52% 21/40 [00:00<00:00, 25.52it/s]\u001b[A\n",
            "Epoch 1:  97% 455/470 [00:26<00:00, 17.42it/s, loss=0.165, v_num=0, val_loss=0.162, val_acc=0.953]\n",
            "Epoch 1:  98% 460/470 [00:26<00:00, 17.48it/s, loss=0.165, v_num=0, val_loss=0.162, val_acc=0.953]\n",
            "Validating:  75% 30/40 [00:01<00:00, 25.43it/s]\u001b[A\n",
            "Epoch 1:  99% 465/470 [00:26<00:00, 17.54it/s, loss=0.165, v_num=0, val_loss=0.162, val_acc=0.953]\n",
            "Validating:  90% 36/40 [00:01<00:00, 26.03it/s]\u001b[A\n",
            "Epoch 1: 100% 470/470 [00:26<00:00, 17.56it/s, loss=0.165, v_num=0, val_loss=0.13, val_acc=0.963] \n",
            "Epoch 2:  91% 430/470 [00:25<00:02, 16.77it/s, loss=0.133, v_num=0, val_loss=0.13, val_acc=0.963]\n",
            "Validating: 0it [00:00, ?it/s]\u001b[A\n",
            "Epoch 2:  93% 435/470 [00:25<00:02, 16.86it/s, loss=0.133, v_num=0, val_loss=0.13, val_acc=0.963]\n",
            "Validating:  15% 6/40 [00:00<00:01, 24.86it/s]\u001b[A\n",
            "Epoch 2:  94% 440/470 [00:26<00:01, 16.92it/s, loss=0.133, v_num=0, val_loss=0.13, val_acc=0.963]\n",
            "Epoch 2:  95% 445/470 [00:26<00:01, 16.98it/s, loss=0.133, v_num=0, val_loss=0.13, val_acc=0.963]\n",
            "Validating:  38% 15/40 [00:00<00:01, 24.86it/s]\u001b[A\n",
            "Epoch 2:  96% 450/470 [00:26<00:01, 17.03it/s, loss=0.133, v_num=0, val_loss=0.13, val_acc=0.963]\n",
            "Validating:  52% 21/40 [00:00<00:00, 24.76it/s]\u001b[A\n",
            "Epoch 2:  97% 455/470 [00:26<00:00, 17.09it/s, loss=0.133, v_num=0, val_loss=0.13, val_acc=0.963]\n",
            "Epoch 2:  98% 460/470 [00:26<00:00, 17.15it/s, loss=0.133, v_num=0, val_loss=0.13, val_acc=0.963]\n",
            "Validating:  75% 30/40 [00:01<00:00, 24.76it/s]\u001b[A\n",
            "Epoch 2:  99% 465/470 [00:27<00:00, 17.21it/s, loss=0.133, v_num=0, val_loss=0.13, val_acc=0.963]\n",
            "Validating:  90% 36/40 [00:01<00:00, 25.07it/s]\u001b[A\n",
            "Epoch 2: 100% 470/470 [00:27<00:00, 17.21it/s, loss=0.133, v_num=0, val_loss=0.105, val_acc=0.969]\n",
            "Epoch 2: 100% 470/470 [00:27<00:00, 17.19it/s, loss=0.133, v_num=0, val_loss=0.105, val_acc=0.969]\n",
            "Testing: 100% 79/79 [00:03<00:00, 25.13it/s]\n",
            "--------------------------------------------------------------------------------\n",
            "DATALOADER:0 TEST RESULTS\n",
            "{'test_acc': tensor(0.9709)}\n",
            "--------------------------------------------------------------------------------\n"
          ]
        }
      ]
    },
    {
      "cell_type": "code",
      "source": [
        "# Launch VSCode server\n",
        "!curl -fsSL https://code-server.dev/install.sh | sh\n",
        "!nohup code-server --port 9000 --auth none &\n",
        "\n",
        "# Tunnel its IP using ngrok\n",
        "!pip install pyngrok\n",
        "from pyngrok import ngrok\n",
        "# ngrok.set_auth_token(\"get from https://dashboard.ngrok.com/auth/your-authtoken, if you want to pay $10/month for a little bit better service\")\n",
        "url = ngrok.connect(9000)\n",
        "print(url)"
      ],
      "metadata": {
        "colab": {
          "base_uri": "https://localhost:8080/"
        },
        "id": "T1wq71Gtp0tJ",
        "outputId": "28c92e7e-fbcf-4759-e490-50da99964fe4"
      },
      "execution_count": null,
      "outputs": [
        {
          "output_type": "stream",
          "name": "stdout",
          "text": [
            "Ubuntu 18.04.5 LTS\n",
            "Installing v4.4.0 of the amd64 deb package from GitHub.\n",
            "\n",
            "+ mkdir -p ~/.cache/code-server\n",
            "+ curl -#fL -o ~/.cache/code-server/code-server_4.4.0_amd64.deb.incomplete -C - https://github.com/coder/code-server/releases/download/v4.4.0/code-server_4.4.0_amd64.deb\n",
            "######################################################################## 100.0%\n",
            "+ mv ~/.cache/code-server/code-server_4.4.0_amd64.deb.incomplete ~/.cache/code-server/code-server_4.4.0_amd64.deb\n",
            "+ dpkg -i ~/.cache/code-server/code-server_4.4.0_amd64.deb\n",
            "Selecting previously unselected package code-server.\n",
            "(Reading database ... 155629 files and directories currently installed.)\n",
            "Preparing to unpack .../code-server_4.4.0_amd64.deb ...\n",
            "Unpacking code-server (4.4.0) ...\n",
            "Setting up code-server (4.4.0) ...\n",
            "\n",
            "deb package has been installed.\n",
            "\n",
            "To have systemd start code-server now and restart on boot:\n",
            "  sudo systemctl enable --now code-server@$USER\n",
            "Or, if you don't want/need a background service you can run:\n",
            "  code-server\n",
            "nohup: appending output to 'nohup.out'\n",
            "Looking in indexes: https://pypi.org/simple, https://us-python.pkg.dev/colab-wheels/public/simple/\n",
            "Collecting pyngrok\n",
            "  Downloading pyngrok-5.1.0.tar.gz (745 kB)\n",
            "\u001b[K     |████████████████████████████████| 745 kB 5.4 MB/s \n",
            "\u001b[?25hRequirement already satisfied: PyYAML in /usr/local/lib/python3.7/dist-packages (from pyngrok) (6.0)\n",
            "Building wheels for collected packages: pyngrok\n",
            "  Building wheel for pyngrok (setup.py) ... \u001b[?25l\u001b[?25hdone\n",
            "  Created wheel for pyngrok: filename=pyngrok-5.1.0-py3-none-any.whl size=19007 sha256=8a48eeaccde6858d1f70b629a9785685aa27f601370debd7abc4f09d533c88fb\n",
            "  Stored in directory: /root/.cache/pip/wheels/bf/e6/af/ccf6598ecefecd44104069371795cb9b3afbcd16987f6ccfb3\n",
            "Successfully built pyngrok\n",
            "Installing collected packages: pyngrok\n",
            "Successfully installed pyngrok-5.1.0\n",
            "NgrokTunnel: \"http://3020-34-123-202-69.ngrok.io\" -> \"http://localhost:9000\"\n"
          ]
        }
      ]
    },
    {
      "cell_type": "code",
      "source": [
        "!git:(main) tree -I \"logs|admin|wandb|__pycache__\""
      ],
      "metadata": {
        "colab": {
          "base_uri": "https://localhost:8080/"
        },
        "id": "tEP44Gi6qU8Y",
        "outputId": "1ed16b57-8af9-4700-f70a-1312ef81b441"
      },
      "execution_count": null,
      "outputs": [
        {
          "output_type": "stream",
          "name": "stdout",
          "text": [
            "/bin/bash: -c: line 0: syntax error near unexpected token `main'\n",
            "/bin/bash: -c: line 0: `git:(main) tree -I \"logs|admin|wandb|__pycache__\"'\n"
          ]
        }
      ]
    },
    {
      "cell_type": "code",
      "source": [
        ""
      ],
      "metadata": {
        "id": "ejUXQCJOsLrG"
      },
      "execution_count": null,
      "outputs": []
    }
  ]
}